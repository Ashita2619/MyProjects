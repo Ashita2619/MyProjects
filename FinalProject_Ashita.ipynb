{
 "cells": [
  {
   "cell_type": "code",
   "execution_count": 1,
   "metadata": {
    "scrolled": true
   },
   "outputs": [],
   "source": [
    "# Importing libraries\n",
    "%matplotlib inline\n",
    "import numpy as np\n",
    "import seaborn as sns\n",
    "import matplotlib.pyplot as plt\n",
    "import pandas as pd\n",
    "import scipy.stats as stats\n",
    "from scipy.stats import sem\n",
    "from statannot import add_stat_annotation"
   ]
  },
  {
   "cell_type": "markdown",
   "metadata": {},
   "source": [
    "FIGURE 1 G"
   ]
  },
  {
   "cell_type": "code",
   "execution_count": 2,
   "metadata": {},
   "outputs": [
    {
     "name": "stdout",
     "output_type": "stream",
     "text": [
      "     Ch1: Size of Cluster (um^2)  Ch2: Size of Cluster (um^2)\n",
      "0                       0.298461                     1.957523\n",
      "1                       0.515017                     2.818591\n",
      "2                       1.286375                     0.280866\n",
      "3                       0.219289                     0.978322\n",
      "4                       2.360054                     8.921512\n",
      "5                       2.736366                     1.503249\n",
      "6                       3.973836                     0.083282\n",
      "7                       0.278775                     7.741423\n",
      "8                       0.162816                     0.829088\n",
      "9                       2.099051                     0.033046\n",
      "10                      0.528059                     0.419119\n",
      "11                      0.655155                     1.061021\n",
      "12                      0.055564                     3.659300\n",
      "13                      1.407611                     0.627470\n",
      "14                      0.577576                     0.166430\n",
      "15                      0.481351                     0.707627\n",
      "16                      1.100010                     2.418459\n",
      "17                      0.066398                     0.629415\n",
      "18                      0.967481                     5.025901\n",
      "19                      0.042311                     3.039035\n",
      "20                      0.197800                     0.415903\n",
      "21                      1.006251                     0.510924\n",
      "22                      1.889248                     1.751040\n",
      "23                      0.968804                     0.644540\n",
      "24                      0.892173                     0.350725\n",
      "25                      1.911931                     0.558587\n",
      "26                      0.610567                     2.335267\n",
      "27                      0.697743                     0.519366\n",
      "28                      1.326379                     0.500676\n",
      "29                      0.422983                     0.343807\n",
      "..                           ...                          ...\n",
      "91                      0.991274                     0.132323\n",
      "92                      0.865774                     0.202251\n",
      "93                      0.633534                     0.262344\n",
      "94                      0.304555                     0.368800\n",
      "95                      0.542031                     0.050666\n",
      "96                      0.154917                     0.897122\n",
      "97                      0.093342                     0.120836\n",
      "98                      0.335430                     1.491715\n",
      "99                      0.319060                     0.191917\n",
      "100                     0.386601                     0.373760\n",
      "101                     0.482714                     0.290511\n",
      "102                     0.272720                     0.131002\n",
      "103                     0.087842                     0.412431\n",
      "104                     0.493651                     0.371833\n",
      "105                     0.741956                     0.510111\n",
      "106                     0.751428                     0.388457\n",
      "107                     0.499642                     0.286038\n",
      "108                     0.158365                     0.045863\n",
      "109                     0.502828                     0.257628\n",
      "110                     0.387064                     0.109494\n",
      "111                     0.134498                     0.285922\n",
      "112                     0.443296                     0.638062\n",
      "113                     0.530314                          NaN\n",
      "114                     0.441524                          NaN\n",
      "115                     0.067366                          NaN\n",
      "116                     0.197095                          NaN\n",
      "117                     1.297810                          NaN\n",
      "118                     0.358234                          NaN\n",
      "119                     0.923018                          NaN\n",
      "120                     0.472880                          NaN\n",
      "\n",
      "[121 rows x 2 columns]\n"
     ]
    }
   ],
   "source": [
    "#Fig 1G\n",
    "#Get the data\n",
    "#Input the excel file which contains data experiment with size of clusters\n",
    "#Note:Make sure that the location of the table is correctly given\n",
    "xls=pd.ExcelFile('Paper2_figure_1.xls')\n",
    "# get only the sheet one data to plot fig 1G data points\n",
    "data=xls.parse('Sheet1', skiprows=2)\n",
    "print(data)"
   ]
  },
  {
   "cell_type": "code",
   "execution_count": 3,
   "metadata": {},
   "outputs": [
    {
     "data": {
      "text/plain": [
       "Index(['Ch1: Size of Cluster (um^2)', 'Ch2: Size of Cluster (um^2)'], dtype='object')"
      ]
     },
     "execution_count": 3,
     "metadata": {},
     "output_type": "execute_result"
    }
   ],
   "source": [
    "data.columns"
   ]
  },
  {
   "cell_type": "code",
   "execution_count": 4,
   "metadata": {},
   "outputs": [
    {
     "name": "stdout",
     "output_type": "stream",
     "text": [
      "[0.29846085214215795, 0.5150171183893347, 1.2863753683363202, 0.21928878511307576, 2.36005439734298, 2.7363661098624537, 3.973835762101672, 0.2787747585157623, 0.16281554356191857, 2.099050883795033, 0.5280592800021877, 0.6551547885430683, 0.05556369885517507, 1.4076111970570324, 0.5775761619252158, 0.4813506247495365, 1.1000097561886633, 0.06639799773235855, 0.967481378550606, 0.04231113093242949, 0.19780025421284925, 1.0062505834213653, 1.8892477558984173, 0.9688044177600229, 0.8921725891596547, 1.911931380982377, 0.6105665351414916, 0.6977426741762991, 1.3263785823405587, 0.42298348271288055, 1.40089583992565, 0.17004379481176463, 0.6780131295917459, 0.3652119299131596, 1.7794173659131713, 0.3347944184419792, 0.1319397816176918, 0.39775149001973586, 0.5989123181333592, 2.31176674622873, 0.8033734907460521, 0.7774605071731704, 0.15828124804400828, 0.24062907285163943, 0.2754560726243282, 2.190171175350265, 0.8193036337610125, 0.03268460756307928, 0.13829126621269852, 0.2184809164611028, 0.39189177613240145, 0.20042942078988712, 0.7622371137708979, 1.4129732015020555, 0.23030388986796518, 0.46530906576039555, 0.5085002006343411, 0.3013097854286286, 0.8780249148830658, 0.15882979649652468, 0.7896683658647699, 0.24313156358641969, 1.487821833015606, 0.043106739242244264, 0.2684785472806337, 0.41559822147069025, 0.607382355366641, 0.06621453075517542, 1.8276639611213563, 1.091073012833204, 0.12799459917461212, 0.4789416438762252, 0.8924077215763768, 0.3104852272774453, 0.3747031538362088, 0.273889122250904, 0.5210072282081522, 0.3916034266689183, 0.42025832647565425, 0.09859362633613179, 0.1660049723715634, 0.08387610081345034, 0.13833759403024104, 0.11348541330498665, 0.4854049032587003, 1.7564728443009574, 0.6677354494696494, 0.10071389295111338, 0.39601352337016443, 0.42098305873028496, 0.0644580037248629, 0.9912739089010258, 0.8657741536022484, 0.6335342447081413, 0.3045552587687552, 0.5420314036716811, 0.15491653774905578, 0.09334195816322302, 0.3354295474930289, 0.3190599660859157, 0.3866008132917098, 0.4827140255614179, 0.2727199910033767, 0.08784205774824086, 0.49365068321937344, 0.7419559635933771, 0.7514278027057967, 0.4996416879485939, 0.15836505339626641, 0.5028276516170515, 0.3870641597348423, 0.13449827117415242, 0.44329606263637605, 0.5303135266665834, 0.4415237413094339, 0.06736590636468937, 0.1970948206673533, 1.2978097824295614, 0.3582340035669594, 0.9230181361390403, 0.47288040974389756]\n"
     ]
    }
   ],
   "source": [
    "#Make the column 1 into a list \n",
    "X_1 = list(data['Ch1: Size of Cluster (um^2)'])[0:]\n",
    "print(X_1)"
   ]
  },
  {
   "cell_type": "code",
   "execution_count": 5,
   "metadata": {},
   "outputs": [
    {
     "name": "stdout",
     "output_type": "stream",
     "text": [
      "[0.03268460756307928, 0.04231113093242949, 0.043106739242244264, 0.05556369885517507, 0.0644580037248629, 0.06621453075517542, 0.06639799773235855, 0.06736590636468937, 0.08387610081345034, 0.08784205774824086, 0.09334195816322302, 0.09859362633613179, 0.10071389295111338, 0.11348541330498665, 0.12799459917461212, 0.1319397816176918, 0.13449827117415242, 0.13829126621269852, 0.13833759403024104, 0.15491653774905578, 0.15828124804400828, 0.15836505339626641, 0.15882979649652468, 0.16281554356191857, 0.1660049723715634, 0.17004379481176463, 0.1970948206673533, 0.19780025421284925, 0.20042942078988712, 0.2184809164611028, 0.21928878511307576, 0.23030388986796518, 0.24062907285163943, 0.24313156358641969, 0.2684785472806337, 0.2727199910033767, 0.273889122250904, 0.2754560726243282, 0.2787747585157623, 0.29846085214215795, 0.3013097854286286, 0.3045552587687552, 0.3104852272774453, 0.3190599660859157, 0.3347944184419792, 0.3354295474930289, 0.3582340035669594, 0.3652119299131596, 0.3747031538362088, 0.3866008132917098, 0.3870641597348423, 0.3916034266689183, 0.39189177613240145, 0.39601352337016443, 0.39775149001973586, 0.41559822147069025, 0.42025832647565425, 0.42098305873028496, 0.42298348271288055, 0.4415237413094339, 0.44329606263637605, 0.46530906576039555, 0.47288040974389756, 0.4789416438762252, 0.4813506247495365, 0.4827140255614179, 0.4854049032587003, 0.49365068321937344, 0.4996416879485939, 0.5028276516170515, 0.5085002006343411, 0.5150171183893347, 0.5210072282081522, 0.5280592800021877, 0.5303135266665834, 0.5420314036716811, 0.5775761619252158, 0.5989123181333592, 0.607382355366641, 0.6105665351414916, 0.6335342447081413, 0.6551547885430683, 0.6677354494696494, 0.6780131295917459, 0.6977426741762991, 0.7419559635933771, 0.7514278027057967, 0.7622371137708979, 0.7774605071731704, 0.7896683658647699, 0.8033734907460521, 0.8193036337610125, 0.8657741536022484, 0.8780249148830658, 0.8921725891596547, 0.8924077215763768, 0.9230181361390403, 0.967481378550606, 0.9688044177600229, 0.9912739089010258, 1.0062505834213653, 1.091073012833204, 1.1000097561886633, 1.2863753683363202, 1.2978097824295614, 1.3263785823405587, 1.40089583992565, 1.4076111970570324, 1.4129732015020555, 1.487821833015606, 1.7564728443009574, 1.7794173659131713, 1.8276639611213563, 1.8892477558984173, 1.911931380982377, 2.099050883795033, 2.190171175350265, 2.31176674622873, 2.36005439734298, 2.7363661098624537, 3.973835762101672]\n"
     ]
    }
   ],
   "source": [
    "#Sort the data in ascending order\n",
    "sort_x = sorted(X_1)\n",
    "print(sort_x)"
   ]
  },
  {
   "cell_type": "code",
   "execution_count": 6,
   "metadata": {},
   "outputs": [
    {
     "name": "stdout",
     "output_type": "stream",
     "text": [
      "[0.28086590879013107, 0.9783215497286787, 8.92151192560238, 1.5032494012402107, 0.08328226337027053, 7.741423360060444, 0.8290877435503595, 0.033046017986030005, 0.4191191625529851, 1.0610209436850846, 3.6592998379602304, 0.6274704727707595, 0.16643010192979746, 0.7076273129211562, 2.418458679524624, 0.6294151325646734, 5.02590075746594, 3.039035249351929, 0.4159029781452641, 0.510924233520811, 1.7510400966493878, 0.644539758396834, 0.35072479567277104, 0.5585871176269983, 2.335267429898209, 0.5193658515268547, 0.5006764505488065, 0.3438065519155387, 0.46596816107782674, 0.16417307368791723, 0.39727479759644624, 0.278343872732638, 0.6136337236953653, 1.453445343645555, 1.5365472604008086, 0.5669171935818526, 0.47193051380878737, 0.3472114369149815, 1.0124620532318058, 2.218620034035181, 0.2941805058635686, 0.1358543623711014, 0.28139304974727064, 0.753306422040834, 0.2681437734938067, 0.15855102539194915, 1.2755809903467359, 0.5465400775428783, 2.4711284480595777, 0.060274962455495816, 0.8697183769208928, 1.67014838815579, 0.12143988473266425, 0.34484246374062166, 3.089912596470936, 0.06976933378454414, 0.21054416032794754, 0.28853568980208627, 0.6587576757713323, 0.8778991543395469, 0.04632081433048812, 0.17413827155455502, 0.2482911506548448, 0.05092375108052837, 0.28429002474719434, 0.49068744481527865, 0.8275291878109806, 0.49930873846827906, 0.3313829213743188, 0.7337555745185981, 0.40282386002682213, 0.6975571615313757, 0.17925820921117194, 0.871748572534769, 0.2163086834255354, 0.0494315315137762, 0.1588352562348023, 0.24714403910627378, 0.3715389044787578, 0.8217622944926979, 0.12042900869293499, 0.7200423009471839, 1.1657846258906308, 0.13291255212207015, 0.38088555533416646, 0.827245082243276, 2.5260821238361397, 0.040935395276472906, 0.2142318314631152, 0.1323225721544184, 0.20225068417120035, 0.2623438587736464, 0.3688004667277577, 0.050666325792468735, 0.8971219496527464, 0.1208356164908721, 1.4917151732987168, 0.19191743661851282, 0.37375980571279466, 0.2905108021499853, 0.13100211645019444, 0.4124309048066104, 0.37183255107393476, 0.510111145937386, 0.38845675703802895, 0.28603841803667646, 0.04586334902228626, 0.25762758359751814, 0.10949410917131884, 0.28592233310503073, 0.638061643539469, nan, nan, nan, nan, nan, nan, nan, nan]\n"
     ]
    }
   ],
   "source": [
    "#Make the column 2 into a list \n",
    "Y = list(data['Ch2: Size of Cluster (um^2)'])[2:]\n",
    "print(Y)"
   ]
  },
  {
   "cell_type": "code",
   "execution_count": 7,
   "metadata": {},
   "outputs": [
    {
     "name": "stdout",
     "output_type": "stream",
     "text": [
      "[0.033046017986030005, 0.040935395276472906, 0.04586334902228626, 0.04632081433048812, 0.0494315315137762, 0.050666325792468735, 0.05092375108052837, 0.060274962455495816, 0.06976933378454414, 0.08328226337027053, 0.10949410917131884, 0.12042900869293499, 0.1208356164908721, 0.12143988473266425, 0.13100211645019444, 0.1323225721544184, 0.13291255212207015, 0.1358543623711014, 0.15855102539194915, 0.1588352562348023, 0.16417307368791723, 0.16643010192979746, 0.17413827155455502, 0.17925820921117194, 0.19191743661851282, 0.20225068417120035, 0.21054416032794754, 0.2142318314631152, 0.2163086834255354, 0.24714403910627378, 0.2482911506548448, 0.25762758359751814, 0.2623438587736464, 0.2681437734938067, 0.278343872732638, 0.28086590879013107, 0.28139304974727064, 0.28429002474719434, 0.28592233310503073, 0.28603841803667646, 0.28853568980208627, 0.2905108021499853, 0.2941805058635686, 0.3313829213743188, 0.3438065519155387, 0.34484246374062166, 0.3472114369149815, 0.35072479567277104, 0.3688004667277577, 0.3715389044787578, 0.37183255107393476, 0.37375980571279466, 0.38088555533416646, 0.38845675703802895, 0.39727479759644624, 0.40282386002682213, 0.4124309048066104, 0.4159029781452641, 0.4191191625529851, 0.46596816107782674, 0.47193051380878737, 0.49068744481527865, 0.49930873846827906, 0.5006764505488065, 0.510111145937386, 0.510924233520811, 0.5193658515268547, 0.5465400775428783, 0.5585871176269983, 0.5669171935818526, 0.6136337236953653, 0.6274704727707595, 0.6294151325646734, 0.638061643539469, 0.644539758396834, 0.6587576757713323, 0.6975571615313757, 0.7076273129211562, 0.7200423009471839, 0.7337555745185981, 0.753306422040834, 0.8217622944926979, 0.827245082243276, 0.8275291878109806, 0.8290877435503595, 0.8697183769208928, 0.871748572534769, 0.8778991543395469, 0.8971219496527464, 0.9783215497286787, 1.0124620532318058, 1.0610209436850846, 1.1657846258906308, 1.2755809903467359, 1.453445343645555, 1.4917151732987168, 1.5032494012402107, 1.5365472604008086, 1.67014838815579, 1.7510400966493878, 2.218620034035181, 2.335267429898209, 2.418458679524624, 2.4711284480595777, 2.5260821238361397, 3.039035249351929, 3.089912596470936, 3.6592998379602304, 5.02590075746594, 7.741423360060444, 8.92151192560238, nan, nan, nan, nan, nan, nan, nan, nan]\n"
     ]
    }
   ],
   "source": [
    "#Sort the data in ascending order\n",
    "sort_y = sorted(Y)\n",
    "print(sort_y)"
   ]
  },
  {
   "cell_type": "code",
   "execution_count": 8,
   "metadata": {},
   "outputs": [
    {
     "name": "stderr",
     "output_type": "stream",
     "text": [
      "/home/ajawali/anaconda3/lib/python3.6/site-packages/numpy/core/_asarray.py:83: VisibleDeprecationWarning: Creating an ndarray from ragged nested sequences (which is a list-or-tuple of lists-or-tuples-or ndarrays with different lengths or shapes) is deprecated. If you meant to do this, you must specify 'dtype=object' when creating the ndarray\n",
      "  return array(a, dtype, copy=False, order=order)\n",
      "/home/ajawali/anaconda3/lib/python3.6/site-packages/numpy/core/_asarray.py:83: VisibleDeprecationWarning: Creating an ndarray from ragged nested sequences (which is a list-or-tuple of lists-or-tuples-or ndarrays with different lengths or shapes) is deprecated. If you meant to do this, you must specify 'dtype=object' when creating the ndarray\n",
      "  return array(a, dtype, copy=False, order=order)\n"
     ]
    },
    {
     "data": {
      "image/png": "[encoded data removed]",
      "text/plain": [
       "<Figure size 432x288 with 1 Axes>"
      ]
     },
     "metadata": {},
     "output_type": "display_data"
    }
   ],
   "source": [
    "#Making the histogram plot for both TCR and CD45\n",
    "bins = np.arange(-0.085,6.0,0.3)\n",
    "# bins = [-0.0855,0.215,0.515,0.815,1.115,1.415,1.715,2.015,2.315,2.615,2.915,3.215,3.515,3.815]\n",
    "#Give colors to both the plots\n",
    "colors = ['r','g']\n",
    "#Arrange your x-axis in the interval of 0.5\n",
    "X = np.arange(0,3.1,0.5)\n",
    "#Sorted values\n",
    "x = sort_x\n",
    "y = sort_y\n",
    "plt.hist([x, y], bins, color = colors,label=['TCR', 'CD45'])\n",
    "xticks = range(len(X))\n",
    "plt.xticks(xticks,X)\n",
    "#Set y-axis interval limit\n",
    "plt.ylim(0,50)\n",
    "#Set the legends\n",
    "plt.legend(loc='upper right')\n",
    "#Set x-axis label\n",
    "plt.xlabel(\"Patch surface area (um^2)\")\n",
    "#Set y-axis label\n",
    "plt.ylabel(\"Frequency\")\n",
    "#To draw the diffraction limit line\n",
    "plt.axvline(x=0.3,color = 'black',linestyle = '--')\n",
    "#Set the title of plot\n",
    "plt.title(\"Fig 1G\")\n",
    "#Show the plot\n",
    "plt.show()"
   ]
  },
  {
   "cell_type": "markdown",
   "metadata": {},
   "source": [
    "FIGURE 1 H"
   ]
  },
  {
   "cell_type": "code",
   "execution_count": 9,
   "metadata": {},
   "outputs": [
    {
     "name": "stdout",
     "output_type": "stream",
     "text": [
      "     Ch1: Cluster Number  Ch1: Size of Cluster (um^2)  \\\n",
      "0                      1                     0.298461   \n",
      "1                      2                     0.515017   \n",
      "2                      3                     1.286375   \n",
      "3                      4                     0.219289   \n",
      "4                      5                     2.360054   \n",
      "5                      6                     2.736366   \n",
      "6                      7                     3.973836   \n",
      "7                      8                     0.278775   \n",
      "8                      9                     0.162816   \n",
      "9                     10                     2.099051   \n",
      "10                    11                     0.528059   \n",
      "11                    12                     0.655155   \n",
      "12                    13                     0.055564   \n",
      "13                    14                     1.407611   \n",
      "14                    15                     0.577576   \n",
      "15                    16                     0.481351   \n",
      "16                    17                     1.100010   \n",
      "17                    18                     0.066398   \n",
      "18                    19                     0.967481   \n",
      "19                    20                     0.042311   \n",
      "20                    21                     0.197800   \n",
      "21                    22                     1.006251   \n",
      "22                    23                     1.889248   \n",
      "23                    24                     0.968804   \n",
      "24                    25                     0.892173   \n",
      "25                    26                     1.911931   \n",
      "26                    27                     0.610567   \n",
      "27                    28                     0.697743   \n",
      "28                    29                     1.326379   \n",
      "29                    30                     0.422983   \n",
      "..                   ...                          ...   \n",
      "91                   103                     0.991274   \n",
      "92                   104                     0.865774   \n",
      "93                   105                     0.633534   \n",
      "94                   106                     0.304555   \n",
      "95                   107                     0.542031   \n",
      "96                   109                     0.154917   \n",
      "97                   110                     0.093342   \n",
      "98                   111                     0.335430   \n",
      "99                   112                     0.319060   \n",
      "100                  113                     0.386601   \n",
      "101                  114                     0.482714   \n",
      "102                  115                     0.272720   \n",
      "103                  116                     0.087842   \n",
      "104                  117                     0.493651   \n",
      "105                  118                     0.741956   \n",
      "106                  119                     0.751428   \n",
      "107                  120                     0.499642   \n",
      "108                  122                     0.158365   \n",
      "109                  123                     0.502828   \n",
      "110                  124                     0.387064   \n",
      "111                  125                     0.134498   \n",
      "112                  126                     0.443296   \n",
      "113                  127                     0.530314   \n",
      "114                  129                     0.441524   \n",
      "115                  130                     0.067366   \n",
      "116                  131                     0.197095   \n",
      "117                  132                     1.297810   \n",
      "118                  133                     0.358234   \n",
      "119                  134                     0.923018   \n",
      "120                  135                     0.472880   \n",
      "\n",
      "     Ch1:Fluorescent Intensity of Cluster  Unnamed: 3  Ch2: Cluster Number  \\\n",
      "0                                   34664         NaN                  1.0   \n",
      "1                                   69629         NaN                  2.0   \n",
      "2                                  349215         NaN                  3.0   \n",
      "3                                  150456         NaN                  4.0   \n",
      "4                                  368800         NaN                  5.0   \n",
      "5                                  643955         NaN                  6.0   \n",
      "6                                  980026         NaN                  7.0   \n",
      "7                                   50256         NaN                  8.0   \n",
      "8                                   82488         NaN                  9.0   \n",
      "9                                  687151         NaN                 10.0   \n",
      "10                                 153639         NaN                 11.0   \n",
      "11                                 236619         NaN                 12.0   \n",
      "12                                  40195         NaN                 13.0   \n",
      "13                                 328607         NaN                 14.0   \n",
      "14                                 137281         NaN                 15.0   \n",
      "15                                  79151         NaN                 16.0   \n",
      "16                                 119027         NaN                 17.0   \n",
      "17                                  50952         NaN                 18.0   \n",
      "18                                 284562         NaN                 19.0   \n",
      "19                                  45720         NaN                 20.0   \n",
      "20                                  65884         NaN                 21.0   \n",
      "21                                 179099         NaN                 22.0   \n",
      "22                                 723649         NaN                 23.0   \n",
      "23                                 184628         NaN                 24.0   \n",
      "24                                 370277         NaN                 25.0   \n",
      "25                                 468882         NaN                 26.0   \n",
      "26                                 267885         NaN                 28.0   \n",
      "27                                 112535         NaN                 29.0   \n",
      "28                                 296369         NaN                 30.0   \n",
      "29                                  83878         NaN                 31.0   \n",
      "..                                    ...         ...                  ...   \n",
      "91                                 160274         NaN                 98.0   \n",
      "92                                 212220         NaN                 99.0   \n",
      "93                                 156320         NaN                100.0   \n",
      "94                                 188203         NaN                104.0   \n",
      "95                                  88214         NaN                105.0   \n",
      "96                                  92859         NaN                106.0   \n",
      "97                                  52200         NaN                108.0   \n",
      "98                                  80399         NaN                110.0   \n",
      "99                                  83970         NaN                111.0   \n",
      "100                                223970         NaN                112.0   \n",
      "101                                 94532         NaN                113.0   \n",
      "102                                 94623         NaN                114.0   \n",
      "103                                 40410         NaN                115.0   \n",
      "104                                141639         NaN                116.0   \n",
      "105                                183860         NaN                117.0   \n",
      "106                                183801         NaN                118.0   \n",
      "107                                154968         NaN                120.0   \n",
      "108                                 71978         NaN                121.0   \n",
      "109                                127758         NaN                122.0   \n",
      "110                                 85250         NaN                123.0   \n",
      "111                                 31642         NaN                124.0   \n",
      "112                                140914         NaN                125.0   \n",
      "113                                188666         NaN                  NaN   \n",
      "114                                210975         NaN                  NaN   \n",
      "115                                 78898         NaN                  NaN   \n",
      "116                                106990         NaN                  NaN   \n",
      "117                                212511         NaN                  NaN   \n",
      "118                                133762         NaN                  NaN   \n",
      "119                                268903         NaN                  NaN   \n",
      "120                                170776         NaN                  NaN   \n",
      "\n",
      "     Ch2: Size of Cluster (um^2)  Ch2: Fluorescent Intensity of Cluster  \n",
      "0                       1.957523                              1065839.0  \n",
      "1                       2.818591                              1507029.0  \n",
      "2                       0.280866                               533050.0  \n",
      "3                       0.978322                               656028.0  \n",
      "4                       8.921512                              5482438.0  \n",
      "5                       1.503249                              1278345.0  \n",
      "6                       0.083282                               148428.0  \n",
      "7                       7.741423                              2920549.0  \n",
      "8                       0.829088                               981364.0  \n",
      "9                       0.033046                                80085.0  \n",
      "10                      0.419119                               341636.0  \n",
      "11                      1.061021                               993419.0  \n",
      "12                      3.659300                              2641504.0  \n",
      "13                      0.627470                               575591.0  \n",
      "14                      0.166430                               188531.0  \n",
      "15                      0.707627                               398511.0  \n",
      "16                      2.418459                              1592569.0  \n",
      "17                      0.629415                               383476.0  \n",
      "18                      5.025901                              3396835.0  \n",
      "19                      3.039035                              1377826.0  \n",
      "20                      0.415903                               147496.0  \n",
      "21                      0.510924                               688712.0  \n",
      "22                      1.751040                              1181815.0  \n",
      "23                      0.644540                               257471.0  \n",
      "24                      0.350725                               330052.0  \n",
      "25                      0.558587                               679420.0  \n",
      "26                      2.335267                              1919657.0  \n",
      "27                      0.519366                               559667.0  \n",
      "28                      0.500676                               301497.0  \n",
      "29                      0.343807                                85102.0  \n",
      "..                           ...                                    ...  \n",
      "91                      0.132323                               316066.0  \n",
      "92                      0.202251                               117573.0  \n",
      "93                      0.262344                               299301.0  \n",
      "94                      0.368800                               365942.0  \n",
      "95                      0.050666                               121195.0  \n",
      "96                      0.897122                               635331.0  \n",
      "97                      0.120836                               212297.0  \n",
      "98                      1.491715                               981832.0  \n",
      "99                      0.191917                               314904.0  \n",
      "100                     0.373760                               270454.0  \n",
      "101                     0.290511                               175053.0  \n",
      "102                     0.131002                               146953.0  \n",
      "103                     0.412431                               163250.0  \n",
      "104                     0.371833                               206008.0  \n",
      "105                     0.510111                               712039.0  \n",
      "106                     0.388457                               163131.0  \n",
      "107                     0.286038                               274881.0  \n",
      "108                     0.045863                               103241.0  \n",
      "109                     0.257628                               250818.0  \n",
      "110                     0.109494                                60900.0  \n",
      "111                     0.285922                                96501.0  \n",
      "112                     0.638062                               245408.0  \n",
      "113                          NaN                                    NaN  \n",
      "114                          NaN                                    NaN  \n",
      "115                          NaN                                    NaN  \n",
      "116                          NaN                                    NaN  \n",
      "117                          NaN                                    NaN  \n",
      "118                          NaN                                    NaN  \n",
      "119                          NaN                                    NaN  \n",
      "120                          NaN                                    NaN  \n",
      "\n",
      "[121 rows x 7 columns]\n"
     ]
    }
   ],
   "source": [
    "#Fig 1H\n",
    "#Get the data\n",
    "#Input the excel file which contains data experiment with size of clusters and its Fluorescent Intensity of Cluster\n",
    "#Note:Make sure that the location of the table is correctly given\n",
    "xls=pd.ExcelFile('Paper2_figure_1.xls')\n",
    "# get only the sheet two data to plot fig 1H data points\n",
    "data=xls.parse('Sheet2', skiprows=2)\n",
    "print(data)"
   ]
  },
  {
   "cell_type": "code",
   "execution_count": 10,
   "metadata": {},
   "outputs": [
    {
     "data": {
      "text/plain": [
       "Index(['Ch1: Cluster Number', 'Ch1: Size of Cluster (um^2)',\n",
       "       'Ch1:Fluorescent Intensity of Cluster', 'Unnamed: 3',\n",
       "       'Ch2: Cluster Number', 'Ch2: Size of Cluster (um^2)',\n",
       "       'Ch2: Fluorescent Intensity of Cluster'],\n",
       "      dtype='object')"
      ]
     },
     "execution_count": 10,
     "metadata": {},
     "output_type": "execute_result"
    }
   ],
   "source": [
    "#Get the columns name \n",
    "data.columns"
   ]
  },
  {
   "cell_type": "code",
   "execution_count": 11,
   "metadata": {},
   "outputs": [
    {
     "name": "stdout",
     "output_type": "stream",
     "text": [
      "[1.2863753683363202, 0.21928878511307576, 2.36005439734298, 2.7363661098624537, 3.973835762101672, 0.2787747585157623, 0.16281554356191857, 2.099050883795033, 0.5280592800021877, 0.6551547885430683, 0.05556369885517507, 1.4076111970570324, 0.5775761619252158, 0.4813506247495365, 1.1000097561886633, 0.06639799773235855, 0.967481378550606, 0.04231113093242949, 0.19780025421284925, 1.0062505834213653, 1.8892477558984173, 0.9688044177600229, 0.8921725891596547, 1.911931380982377, 0.6105665351414916, 0.6977426741762991, 1.3263785823405587, 0.42298348271288055, 1.40089583992565, 0.17004379481176463, 0.6780131295917459, 0.3652119299131596, 1.7794173659131713, 0.3347944184419792, 0.1319397816176918, 0.39775149001973586, 0.5989123181333592, 2.31176674622873, 0.8033734907460521, 0.7774605071731704, 0.15828124804400828, 0.24062907285163943, 0.2754560726243282, 2.190171175350265, 0.8193036337610125, 0.03268460756307928, 0.13829126621269852, 0.2184809164611028, 0.39189177613240145, 0.20042942078988712, 0.7622371137708979, 1.4129732015020555, 0.23030388986796518, 0.46530906576039555, 0.5085002006343411, 0.3013097854286286, 0.8780249148830658, 0.15882979649652468, 0.7896683658647699, 0.24313156358641969, 1.487821833015606, 0.043106739242244264, 0.2684785472806337, 0.41559822147069025, 0.607382355366641, 0.06621453075517542, 1.8276639611213563, 1.091073012833204, 0.12799459917461212, 0.4789416438762252, 0.8924077215763768, 0.3104852272774453, 0.3747031538362088, 0.273889122250904, 0.5210072282081522, 0.3916034266689183, 0.42025832647565425, 0.09859362633613179, 0.1660049723715634, 0.08387610081345034, 0.13833759403024104, 0.11348541330498665, 0.4854049032587003, 1.7564728443009574, 0.6677354494696494, 0.10071389295111338, 0.39601352337016443, 0.42098305873028496, 0.0644580037248629, 0.9912739089010258, 0.8657741536022484, 0.6335342447081413, 0.3045552587687552, 0.5420314036716811, 0.15491653774905578, 0.09334195816322302, 0.3354295474930289, 0.3190599660859157, 0.3866008132917098, 0.4827140255614179, 0.2727199910033767, 0.08784205774824086, 0.49365068321937344, 0.7419559635933771, 0.7514278027057967, 0.4996416879485939, 0.15836505339626641, 0.5028276516170515, 0.3870641597348423, 0.13449827117415242, 0.44329606263637605, 0.5303135266665834, 0.4415237413094339, 0.06736590636468937, 0.1970948206673533, 1.2978097824295614, 0.3582340035669594, 0.9230181361390403, 0.47288040974389756]\n"
     ]
    }
   ],
   "source": [
    "#Make the column 2 = Ch1: Size of Cluster (um^2) into a list \n",
    "Data = list(data['Ch1: Size of Cluster (um^2)'])[2:]\n",
    "print(Data)"
   ]
  },
  {
   "cell_type": "code",
   "execution_count": 12,
   "metadata": {},
   "outputs": [
    {
     "name": "stdout",
     "output_type": "stream",
     "text": [
      "[349215, 150456, 368800, 643955, 980026, 50256, 82488, 687151, 153639, 236619, 40195, 328607, 137281, 79151, 119027, 50952, 284562, 45720, 65884, 179099, 723649, 184628, 370277, 468882, 267885, 112535, 296369, 83878, 219171, 48730, 194937, 152653, 502361, 117147, 70086, 89731, 135773, 435979, 182497, 135941, 80490, 145455, 115021, 329750, 192547, 44594, 47620, 41281, 115393, 102420, 168557, 551169, 65182, 177024, 114487, 110815, 378504, 71644, 93026, 228634, 217497, 32446, 66643, 100481, 172394, 43556, 311060, 241534, 66427, 193397, 398589, 81396, 164506, 122719, 108648, 125282, 98862, 45110, 90348, 41657, 93442, 85513, 154279, 423288, 97854, 57973, 191310, 171196, 91045, 160274, 212220, 156320, 188203, 88214, 92859, 52200, 80399, 83970, 223970, 94532, 94623, 40410, 141639, 183860, 183801, 154968, 71978, 127758, 85250, 31642, 140914, 188666, 210975, 78898, 106990, 212511, 133762, 268903, 170776]\n"
     ]
    }
   ],
   "source": [
    "#Make the column 3 = Ch1:Fluorescent Intensity of Cluster  into a list \n",
    "Data1 = list(data['Ch1:Fluorescent Intensity of Cluster'])[2:]\n",
    "print(Data1)"
   ]
  },
  {
   "cell_type": "code",
   "execution_count": 13,
   "metadata": {
    "scrolled": true
   },
   "outputs": [
    {
     "name": "stdout",
     "output_type": "stream",
     "text": [
      "[0.28086590879013107, 0.9783215497286787, 8.92151192560238, 1.5032494012402107, 0.08328226337027053, 7.741423360060444, 0.8290877435503595, 0.033046017986030005, 0.4191191625529851, 1.0610209436850846, 3.6592998379602304, 0.6274704727707595, 0.16643010192979746, 0.7076273129211562, 2.418458679524624, 0.6294151325646734, 5.02590075746594, 3.039035249351929, 0.4159029781452641, 0.510924233520811, 1.7510400966493878, 0.644539758396834, 0.35072479567277104, 0.5585871176269983, 2.335267429898209, 0.5193658515268547, 0.5006764505488065, 0.3438065519155387, 0.46596816107782674, 0.16417307368791723, 0.39727479759644624, 0.278343872732638, 0.6136337236953653, 1.453445343645555, 1.5365472604008086, 0.5669171935818526, 0.47193051380878737, 0.3472114369149815, 1.0124620532318058, 2.218620034035181, 0.2941805058635686, 0.1358543623711014, 0.28139304974727064, 0.753306422040834, 0.2681437734938067, 0.15855102539194915, 1.2755809903467359, 0.5465400775428783, 2.4711284480595777, 0.060274962455495816, 0.8697183769208928, 1.67014838815579, 0.12143988473266425, 0.34484246374062166, 3.089912596470936, 0.06976933378454414, 0.21054416032794754, 0.28853568980208627, 0.6587576757713323, 0.8778991543395469, 0.04632081433048812, 0.17413827155455502, 0.2482911506548448, 0.05092375108052837, 0.28429002474719434, 0.49068744481527865, 0.8275291878109806, 0.49930873846827906, 0.3313829213743188, 0.7337555745185981, 0.40282386002682213, 0.6975571615313757, 0.17925820921117194, 0.871748572534769, 0.2163086834255354, 0.0494315315137762, 0.1588352562348023, 0.24714403910627378, 0.3715389044787578, 0.8217622944926979, 0.12042900869293499, 0.7200423009471839, 1.1657846258906308, 0.13291255212207015, 0.38088555533416646, 0.827245082243276, 2.5260821238361397, 0.040935395276472906, 0.2142318314631152, 0.1323225721544184, 0.20225068417120035, 0.2623438587736464, 0.3688004667277577, 0.050666325792468735, 0.8971219496527464, 0.1208356164908721, 1.4917151732987168, 0.19191743661851282, 0.37375980571279466, 0.2905108021499853, 0.13100211645019444, 0.4124309048066104, 0.37183255107393476, 0.510111145937386, 0.38845675703802895, 0.28603841803667646, 0.04586334902228626, 0.25762758359751814, 0.10949410917131884, 0.28592233310503073, 0.638061643539469, nan, nan, nan, nan, nan, nan, nan, nan]\n",
      "[0.28086590879013107, 0.9783215497286787, 8.92151192560238, 1.5032494012402107, 0.08328226337027053, 7.741423360060444, 0.8290877435503595, 0.033046017986030005, 0.4191191625529851, 1.0610209436850846, 3.6592998379602304, 0.6274704727707595, 0.16643010192979746, 0.7076273129211562, 2.418458679524624, 0.6294151325646734, 5.02590075746594, 3.039035249351929, 0.4159029781452641, 0.510924233520811, 1.7510400966493878, 0.644539758396834, 0.35072479567277104, 0.5585871176269983, 2.335267429898209, 0.5193658515268547, 0.5006764505488065, 0.3438065519155387, 0.46596816107782674, 0.16417307368791723, 0.39727479759644624, 0.278343872732638, 0.6136337236953653, 1.453445343645555, 1.5365472604008086, 0.5669171935818526, 0.47193051380878737, 0.3472114369149815, 1.0124620532318058, 2.218620034035181, 0.2941805058635686, 0.1358543623711014, 0.28139304974727064, 0.753306422040834, 0.2681437734938067, 0.15855102539194915, 1.2755809903467359, 0.5465400775428783, 2.4711284480595777, 0.060274962455495816, 0.8697183769208928, 1.67014838815579, 0.12143988473266425, 0.34484246374062166, 3.089912596470936, 0.06976933378454414, 0.21054416032794754, 0.28853568980208627, 0.6587576757713323, 0.8778991543395469, 0.04632081433048812, 0.17413827155455502, 0.2482911506548448, 0.05092375108052837, 0.28429002474719434, 0.49068744481527865, 0.8275291878109806, 0.49930873846827906, 0.3313829213743188, 0.7337555745185981, 0.40282386002682213, 0.6975571615313757, 0.17925820921117194, 0.871748572534769, 0.2163086834255354, 0.0494315315137762, 0.1588352562348023, 0.24714403910627378, 0.3715389044787578, 0.8217622944926979, 0.12042900869293499, 0.7200423009471839, 1.1657846258906308, 0.13291255212207015, 0.38088555533416646, 0.827245082243276, 2.5260821238361397, 0.040935395276472906, 0.2142318314631152, 0.1323225721544184, 0.20225068417120035, 0.2623438587736464, 0.3688004667277577, 0.050666325792468735, 0.8971219496527464, 0.1208356164908721, 1.4917151732987168, 0.19191743661851282, 0.37375980571279466, 0.2905108021499853, 0.13100211645019444, 0.4124309048066104, 0.37183255107393476, 0.510111145937386, 0.38845675703802895, 0.28603841803667646, 0.04586334902228626, 0.25762758359751814, 0.10949410917131884, 0.28592233310503073, 0.638061643539469]\n"
     ]
    },
    {
     "data": {
      "text/plain": [
       "111"
      ]
     },
     "execution_count": 13,
     "metadata": {},
     "output_type": "execute_result"
    }
   ],
   "source": [
    "#Make the column 6 = Ch2: Size of Cluster (um^2)  into a list\n",
    "Data2 = list(data['Ch2: Size of Cluster (um^2)'])[2:]\n",
    "print(Data2)\n",
    "#To remove NaN values from the list\n",
    "Data2Temp = Data2[:len(Data2)-8]\n",
    "print(Data2Temp)\n",
    "#Check the length\n",
    "len(Data2Temp)"
   ]
  },
  {
   "cell_type": "code",
   "execution_count": 14,
   "metadata": {},
   "outputs": [
    {
     "name": "stdout",
     "output_type": "stream",
     "text": [
      "[533050.0, 656028.0, 5482438.0, 1278345.0, 148428.0, 2920549.0, 981364.0, 80085.0, 341636.0, 993419.0, 2641504.0, 575591.0, 188531.0, 398511.0, 1592569.0, 383476.0, 3396835.0, 1377826.0, 147496.0, 688712.0, 1181815.0, 257471.0, 330052.0, 679420.0, 1919657.0, 559667.0, 301497.0, 85102.0, 462696.0, 220851.0, 477659.0, 325457.0, 569492.0, 1233308.0, 1031295.0, 229911.0, 523836.0, 289262.0, 277457.0, 994551.0, 295865.0, 125278.0, 445928.0, 713503.0, 209819.0, 174641.0, 1044404.0, 249794.0, 1231251.0, 56030.0, 283443.0, 795094.0, 252155.0, 564805.0, 1372405.0, 71985.0, 308311.0, 317767.0, 842427.0, 634355.0, 85507.0, 161969.0, 106589.0, 179949.0, 327254.0, 456498.0, 458576.0, 583197.0, 289873.0, 255012.0, 439343.0, 569435.0, 107134.0, 701526.0, 76982.0, 34475.0, 105461.0, 270083.0, 252988.0, 386027.0, 187881.0, 427761.0, 762441.0, 300949.0, 468551.0, 307503.0, 957964.0, 122275.0, 92001.0, 316066.0, 117573.0, 299301.0, 365942.0, 121195.0, 635331.0, 212297.0, 981832.0, 314904.0, 270454.0, 175053.0, 146953.0, 163250.0, 206008.0, 712039.0, 163131.0, 274881.0, 103241.0, 250818.0, 60900.0, 96501.0, 245408.0, nan, nan, nan, nan, nan, nan, nan, nan]\n",
      "[533050.0, 656028.0, 5482438.0, 1278345.0, 148428.0, 2920549.0, 981364.0, 80085.0, 341636.0, 993419.0, 2641504.0, 575591.0, 188531.0, 398511.0, 1592569.0, 383476.0, 3396835.0, 1377826.0, 147496.0, 688712.0, 1181815.0, 257471.0, 330052.0, 679420.0, 1919657.0, 559667.0, 301497.0, 85102.0, 462696.0, 220851.0, 477659.0, 325457.0, 569492.0, 1233308.0, 1031295.0, 229911.0, 523836.0, 289262.0, 277457.0, 994551.0, 295865.0, 125278.0, 445928.0, 713503.0, 209819.0, 174641.0, 1044404.0, 249794.0, 1231251.0, 56030.0, 283443.0, 795094.0, 252155.0, 564805.0, 1372405.0, 71985.0, 308311.0, 317767.0, 842427.0, 634355.0, 85507.0, 161969.0, 106589.0, 179949.0, 327254.0, 456498.0, 458576.0, 583197.0, 289873.0, 255012.0, 439343.0, 569435.0, 107134.0, 701526.0, 76982.0, 34475.0, 105461.0, 270083.0, 252988.0, 386027.0, 187881.0, 427761.0, 762441.0, 300949.0, 468551.0, 307503.0, 957964.0, 122275.0, 92001.0, 316066.0, 117573.0, 299301.0, 365942.0, 121195.0, 635331.0, 212297.0, 981832.0, 314904.0, 270454.0, 175053.0, 146953.0, 163250.0, 206008.0, 712039.0, 163131.0, 274881.0, 103241.0, 250818.0, 60900.0, 96501.0, 245408.0]\n"
     ]
    },
    {
     "data": {
      "text/plain": [
       "111"
      ]
     },
     "execution_count": 14,
     "metadata": {},
     "output_type": "execute_result"
    }
   ],
   "source": [
    "#Make the column 7 = Ch2: Fluorescent Intensity of Cluster into a list\n",
    "Data3 = list(data['Ch2: Fluorescent Intensity of Cluster'])[2:]\n",
    "print(Data3)\n",
    "#To remove the Nan Values from the list\n",
    "Data3Temp = Data3[:len(Data3)-8]\n",
    "print(Data3Temp)\n",
    "#Check the length\n",
    "len(Data3Temp)"
   ]
  },
  {
   "cell_type": "code",
   "execution_count": 15,
   "metadata": {},
   "outputs": [
    {
     "name": "stdout",
     "output_type": "stream",
     "text": [
      "best fit line:\n",
      "y = 40307.29 + 212244.06x\n",
      "best fit line:\n",
      "y = 128641.87 + 525475.63x\n"
     ]
    },
    {
     "data": {
      "image/png": "[encoded data removed]",
      "text/plain": [
       "<Figure size 432x288 with 2 Axes>"
      ]
     },
     "metadata": {},
     "output_type": "display_data"
    }
   ],
   "source": [
    "# create figure and axis objects with subplots()\n",
    "fig,ax = plt.subplots()\n",
    "#sample points for TCR\n",
    "X = Data\n",
    "Y = Data1\n",
    "\n",
    "# solve for a and b (TCR)\n",
    "def best_fit(X, Y):\n",
    "\n",
    "    xbar = sum(X)/len(X)\n",
    "    ybar = sum(Y)/len(Y)\n",
    "    n = len(X) # or len(Y)\n",
    "\n",
    "    numer = sum([xi*yi for xi,yi in zip(X, Y)]) - n * xbar * ybar\n",
    "    denum = sum([xi**2 for xi in X]) - n * xbar**2\n",
    "\n",
    "    b = numer / denum\n",
    "    a = ybar - b * xbar\n",
    "\n",
    "    print('best fit line:\\ny = {:.2f} + {:.2f}x'.format(a, b))\n",
    "\n",
    "    return a, b\n",
    "# solution to make the line\n",
    "a, b = best_fit(Data, Data1)\n",
    "\n",
    "# make a scatter plot\n",
    "ax.scatter(Data, Data1,color=\"green\", marker=\"o\")\n",
    "yfit = [a + b * xi for xi in X]\n",
    "plt.plot(Data, yfit,color = \"green\",linestyle='--', linewidth=2)\n",
    "# plt.ylim(0,10)\n",
    "# set x-axis label\n",
    "ax.set_xlabel(\"Patch Surface area (um^2)\", fontsize = 14)\n",
    "# set y-axis label\n",
    "ax.set_ylabel(\"TCR patch intensity\",color=\"green\",fontsize=14)\n",
    "\n",
    "\n",
    "# twin object for two different y-axis on the sample plot\n",
    "ax2=ax.twinx()\n",
    "#sample points for CD45\n",
    "X = Data2Temp\n",
    "Y = Data3Temp\n",
    "\n",
    "# solve for a and b (CD45)\n",
    "def best_fit(X, Y):\n",
    "\n",
    "    xbar = sum(X)/len(X)\n",
    "    ybar = sum(Y)/len(Y)\n",
    "    n = len(X) # or len(Y)\n",
    "\n",
    "    numer = sum([xi*yi for xi,yi in zip(X, Y)]) - n * xbar * ybar\n",
    "    denum = sum([xi**2 for xi in X]) - n * xbar**2\n",
    "\n",
    "    b = numer / denum\n",
    "    a = ybar - b * xbar\n",
    "\n",
    "    print('best fit line:\\ny = {:.2f} + {:.2f}x'.format(a, b))\n",
    "\n",
    "    return a, b\n",
    "# solution to make the line\n",
    "a, b = best_fit(Data2Temp, Data3Temp)\n",
    "# make a scatter plot\n",
    "ax2.scatter(Data2Temp, Data3Temp,color=\"red\",marker=\"o\")\n",
    "yfit = [a + b * xi for xi in X]\n",
    "plt.plot(Data2Temp, yfit,color=\"red\", linestyle='-', linewidth=2)\n",
    "# plt.ylim(0,60)\n",
    "# set y-axis label\n",
    "ax2.set_ylabel(\"CD45 patch intensity\",color=\"red\",fontsize=14)\n",
    "#To draw the diffraction limit line\n",
    "plt.axvline(x=0.3,color = 'black',linestyle = '--')\n",
    "#Set the title of the plot\n",
    "plt.title(\"Fig 1H\")\n",
    "#Show the plot\n",
    "plt.show()"
   ]
  },
  {
   "cell_type": "markdown",
   "metadata": {},
   "source": [
    "FIGURE 2 F"
   ]
  },
  {
   "cell_type": "code",
   "execution_count": 16,
   "metadata": {},
   "outputs": [
    {
     "name": "stdout",
     "output_type": "stream",
     "text": [
      "     Time    Cell 1    Cell 2    Cell 3    Cell 4    Cell 5\n",
      "0    0.00  1.000000  1.000000  1.000000  1.000000  1.000000\n",
      "1    4.71  0.474623  0.471721  0.493523  0.494253  0.531180\n",
      "2    9.42  0.198903  0.220217  0.223319  0.215107  0.177060\n",
      "3   14.13  0.134431  0.140794  0.131400  0.101806  0.121381\n",
      "4   18.84  0.072702  0.067389  0.064775  0.070608  0.073497\n",
      "5   23.55  0.039781  0.032491  0.035780  0.042693  0.037862\n",
      "6   28.26  0.032922  0.021661  0.020358  0.018062  0.016704\n",
      "7   32.97  0.012346  0.010830  0.014806  0.022989  0.011136\n",
      "8   37.68  0.006859  0.009627  0.007403  0.004926  0.010022\n",
      "9   42.39  0.009602  0.004813  0.001234  0.006568  0.001114\n",
      "10  47.10  0.002743  0.006017  0.004318  0.001642  0.002227\n",
      "11  51.81  0.002743  0.004813  0.001234  0.003284  0.005568\n",
      "12  56.52  0.004115  0.001203  0.001234  0.003284  0.005568\n",
      "13  61.23  0.002743  0.003610  0.000000  0.001642  0.000000\n",
      "14  65.94  0.000000  0.001203  0.000000  0.001642  0.000000\n",
      "15  70.65  0.000000  0.000000  0.000000  0.000000  0.002227\n",
      "16  75.36  0.000000  0.000000  0.000617  0.000000  0.001114\n"
     ]
    }
   ],
   "source": [
    "#Figure 2F\n",
    "#Get the data\n",
    "# read by default 1st sheet of an excel file\n",
    "dataframe1 = pd.read_excel('Paper2_figure_2.xls',skiprows = 2)\n",
    "print(dataframe1)"
   ]
  },
  {
   "cell_type": "code",
   "execution_count": 17,
   "metadata": {},
   "outputs": [
    {
     "name": "stdout",
     "output_type": "stream",
     "text": [
      "     Time    Cell 1    Cell 2    Cell 3    Cell 4    Cell 5      Mean  \\\n",
      "0    0.00  1.000000  1.000000  1.000000  1.000000  1.000000  1.000000   \n",
      "1    4.71  0.474623  0.471721  0.493523  0.494253  0.531180  0.483530   \n",
      "2    9.42  0.198903  0.220217  0.223319  0.215107  0.177060  0.214386   \n",
      "3   14.13  0.134431  0.140794  0.131400  0.101806  0.121381  0.127108   \n",
      "4   18.84  0.072702  0.067389  0.064775  0.070608  0.073497  0.068868   \n",
      "5   23.55  0.039781  0.032491  0.035780  0.042693  0.037862  0.037686   \n",
      "6   28.26  0.032922  0.021661  0.020358  0.018062  0.016704  0.023251   \n",
      "7   32.97  0.012346  0.010830  0.014806  0.022989  0.011136  0.015243   \n",
      "8   37.68  0.006859  0.009627  0.007403  0.004926  0.010022  0.007204   \n",
      "9   42.39  0.009602  0.004813  0.001234  0.006568  0.001114  0.005554   \n",
      "10  47.10  0.002743  0.006017  0.004318  0.001642  0.002227  0.003680   \n",
      "11  51.81  0.002743  0.004813  0.001234  0.003284  0.005568  0.003019   \n",
      "12  56.52  0.004115  0.001203  0.001234  0.003284  0.005568  0.002459   \n",
      "13  61.23  0.002743  0.003610  0.000000  0.001642  0.000000  0.001999   \n",
      "14  65.94  0.000000  0.001203  0.000000  0.001642  0.000000  0.000711   \n",
      "15  70.65  0.000000  0.000000  0.000000  0.000000  0.002227  0.000000   \n",
      "16  75.36  0.000000  0.000000  0.000617  0.000000  0.001114  0.000154   \n",
      "\n",
      "         SEM    Mean_per  \n",
      "0   0.000000  100.000000  \n",
      "1   0.006011   48.352974  \n",
      "2   0.005432   21.438622  \n",
      "3   0.008658   12.710789  \n",
      "4   0.001748    6.886835  \n",
      "5   0.002237    3.768620  \n",
      "6   0.003308    2.325067  \n",
      "7   0.002709    1.524255  \n",
      "8   0.000967    0.720365  \n",
      "9   0.001747    0.555441  \n",
      "10  0.000953    0.368017  \n",
      "11  0.000739    0.301871  \n",
      "12  0.000736    0.245912  \n",
      "13  0.000779    0.199891  \n",
      "14  0.000420    0.071135  \n",
      "15  0.000000    0.000000  \n",
      "16  0.000154    0.015423  \n"
     ]
    },
    {
     "data": {
      "image/png": "[encoded data removed]",
      "text/plain": [
       "<Figure size 432x288 with 1 Axes>"
      ]
     },
     "metadata": {},
     "output_type": "display_data"
    }
   ],
   "source": [
    "#Mean of the each rows\n",
    "Mean_data = dataframe1[\"Mean\"] = dataframe1.iloc[:, 1:5].mean(axis = 1)\n",
    "#Standard mean error for each rows (SEM)\n",
    "sem_values = dataframe1[\"SEM\"]= dataframe1.iloc[:,1:5].sem(axis=1)\n",
    "#Mean percentage of the each row\n",
    "Mean_data_per = dataframe1[\"Mean_per\"] = dataframe1.iloc[:, 1:5].mean(axis = 1)*100\n",
    "#To get the time data from the dataframe1\n",
    "Time = dataframe1.Time\n",
    "print(dataframe1)\n",
    "#Plot the data points to an exponential graph\n",
    "dataframe1.plot(x = 'Time',y = 'Mean_per', label=\"The fitted curve\",color = 'blue')\n",
    "#Get the errorbar plots for the data points accordingly\n",
    "plt.errorbar(Time,Mean_data_per,yerr = sem_values,fmt = '',capsize = 2,capthick = 3,color = 'black')\n",
    "#Set y-axis label\n",
    "plt.ylabel(\"Percent Remaining\")\n",
    "plt.xlim(0,70)\n",
    "#Set the title\n",
    "plt.title(\"Fig 2F\")\n",
    "#Show the plot\n",
    "plt.show()"
   ]
  },
  {
   "cell_type": "markdown",
   "metadata": {},
   "source": [
    "FIGURE 4 C"
   ]
  },
  {
   "cell_type": "code",
   "execution_count": 46,
   "metadata": {},
   "outputs": [
    {
     "name": "stdout",
     "output_type": "stream",
     "text": [
      "    No pMHC        N4\n",
      "0  0.270090  0.851274\n",
      "1  0.057767  0.965223\n",
      "2  0.124286  0.838892\n",
      "3  0.707183  0.929252\n",
      "4  0.479785  0.827657\n",
      "5  0.082732  0.717628\n",
      "6  0.071539       NaN\n",
      "     No pMHC         N4\n",
      "0  27.009043  85.127432\n",
      "1   5.776737  96.522255\n",
      "2  12.428634  83.889181\n",
      "3  70.718340  92.925195\n",
      "4  47.978500  82.765680\n",
      "5   8.273182  71.762829\n",
      "6   7.153852        NaN\n"
     ]
    }
   ],
   "source": [
    "#Figure 4 C\n",
    "#Get the data\n",
    "#Input the excel file which contains data experiment with No pMHC and N4\n",
    "#Note:Make sure that the location of the table is correctly given\n",
    "xls=pd.ExcelFile('Paper2_figure_4.xls')\n",
    "#Get sheet 1 data\n",
    "df=xls.parse('Sheet1', skiprows=2)\n",
    "print(df)\n",
    "data_1 = df * 100\n",
    "print(data_1)"
   ]
  },
  {
   "cell_type": "code",
   "execution_count": 58,
   "metadata": {
    "scrolled": true
   },
   "outputs": [
    {
     "name": "stdout",
     "output_type": "stream",
     "text": [
      "p-value annotation legend:\n",
      "ns: 5.00e-02 < p <= 1.00e+00\n",
      "*: 1.00e-02 < p <= 5.00e-02\n",
      "**: 1.00e-03 < p <= 1.00e-02\n",
      "***: 1.00e-04 < p <= 1.00e-03\n",
      "****: p <= 1.00e-04\n",
      "\n",
      "No pMHC v.s. N4: Welch's t-test independent samples with Bonferroni correction, P_val=4.176e-04 stat=-5.938e+00\n"
     ]
    },
    {
     "data": {
      "image/png": "[encoded data removed]",
      "text/plain": [
       "<Figure size 432x288 with 1 Axes>"
      ]
     },
     "metadata": {},
     "output_type": "display_data"
    }
   ],
   "source": [
    "#Get the strip plots\n",
    "Graph = sns.stripplot(data = data_1, jitter = 0.1,color = 'black') \n",
    "# sns.stripplot(data=df, dodge=True, jitter=0.1, alpha=0.50, zorder=1, size=8, linewidth = 0.5)\n",
    "#Get the error bar plots for the same data\n",
    "sns.pointplot(ci=95,data=data_1, join=False, scale=1, zorder=100, capsize = 0.5,capthick = 1.5,palette = 'Paired') \n",
    "#Set y-axis label\n",
    "plt.ylabel(\"TCR Occupancy\")\n",
    "plt.title(\"Fig 4 C\")\n",
    "#Setting annotations legends depending on the pvalues\n",
    "test_results = add_stat_annotation(Graph, data=data_1, box_pairs=[(\"No pMHC\", \"N4\")],test='t-test_welch', text_format='star',loc='inside', verbose=2)"
   ]
  },
  {
   "cell_type": "code",
   "execution_count": 20,
   "metadata": {},
   "outputs": [
    {
     "data": {
      "text/plain": [
       "Index(['No pMHC', 'N4'], dtype='object')"
      ]
     },
     "execution_count": 20,
     "metadata": {},
     "output_type": "execute_result"
    }
   ],
   "source": [
    "#Get the column name details\n",
    "df.columns"
   ]
  },
  {
   "cell_type": "code",
   "execution_count": 21,
   "metadata": {},
   "outputs": [
    {
     "name": "stdout",
     "output_type": "stream",
     "text": [
      "[0.2700904282545641, 0.05776736924277908, 0.12428634167764603, 0.7071834018398904, 0.47978499649450806, 0.08273181565796779, 0.07153851792127831]\n"
     ]
    }
   ],
   "source": [
    "#Make the column 1 data into a list\n",
    "No_pMHC= list(df['No pMHC'])[0:]\n",
    "print(No_pMHC)"
   ]
  },
  {
   "cell_type": "code",
   "execution_count": 22,
   "metadata": {},
   "outputs": [
    {
     "name": "stdout",
     "output_type": "stream",
     "text": [
      "[0.8512743235274848, 0.9652225519287834, 0.8388918130054069, 0.9292519515643248, 0.8276568025311744, 0.7176282903483117, nan]\n",
      "[0.8512743235274848, 0.9652225519287834, 0.8388918130054069, 0.9292519515643248, 0.8276568025311744, 0.7176282903483117]\n"
     ]
    },
    {
     "data": {
      "text/plain": [
       "6"
      ]
     },
     "execution_count": 22,
     "metadata": {},
     "output_type": "execute_result"
    }
   ],
   "source": [
    "#Make the column 2 data into a list\n",
    "N4_1 = list(df['N4'])[0:]\n",
    "print(N4_1)\n",
    "#Remove the NaN values from the list\n",
    "N4_2 = N4_1[:len(N4_1)-8]\n",
    "print(N4_2)\n",
    "#Check the length(if the NaN values is removed or not)\n",
    "len(N4_2)"
   ]
  },
  {
   "cell_type": "code",
   "execution_count": 23,
   "metadata": {},
   "outputs": [
    {
     "name": "stdout",
     "output_type": "stream",
     "text": [
      "0.05350528849876568 0.006259058959902481\n",
      "The t-value for the data is: -5.937830289419431\n",
      "The p-value for the data is: 0.0004176247531235184\n",
      "Reject the null hypothesis\n"
     ]
    }
   ],
   "source": [
    "#Statistical analysis or Hypothesis testing\n",
    "# Print the variance of both data groups\n",
    "print(np.var(No_pMHC), np.var(N4_2))\n",
    "# Conduct Welch's t-Test and print the result\n",
    "tval,pvalue = stats.ttest_ind(No_pMHC, N4_2, equal_var = False)\n",
    "#printing the tvalue and p-value\n",
    "print(\"The t-value for the data is:\",tval)\n",
    "print(\"The p-value for the data is:\",pvalue)\n",
    "#Testing Hypothesis\n",
    "if pvalue<0.05:\n",
    "    print(\"Reject the null hypothesis\")"
   ]
  },
  {
   "cell_type": "markdown",
   "metadata": {},
   "source": [
    "FIGURE 4 D"
   ]
  },
  {
   "cell_type": "code",
   "execution_count": 24,
   "metadata": {},
   "outputs": [
    {
     "name": "stdout",
     "output_type": "stream",
     "text": [
      "  Unnamed: 0  Transient  Persistant  Ultra-Persistant\n",
      "0     Cell 1      13.87       20.58             39.46\n",
      "1     Cell 2      42.96       55.66            100.00\n",
      "2     Cell 3      36.19       60.44            100.00\n",
      "3     Cell 4      31.05       64.78             95.86\n",
      "4     Cell 5      25.79       69.47             90.66\n"
     ]
    }
   ],
   "source": [
    "#Figure 4 D\n",
    "#Get the data\n",
    "#Input the excel file which contains data experiment with Transient,Persistant and Ultra-Persistant\n",
    "#Note:Make sure that the location of the table is correctly given\n",
    "xls=pd.ExcelFile('Paper2_figure_4.xls')\n",
    "#Get the sheet 2 data\n",
    "Data=xls.parse('Sheet2', skiprows=1)\n",
    "print(Data)"
   ]
  },
  {
   "cell_type": "code",
   "execution_count": 25,
   "metadata": {},
   "outputs": [
    {
     "data": {
      "text/plain": [
       "Index(['Unnamed: 0', 'Transient', 'Persistant', 'Ultra-Persistant'], dtype='object')"
      ]
     },
     "execution_count": 25,
     "metadata": {},
     "output_type": "execute_result"
    }
   ],
   "source": [
    "#Get the column name details from the dataframe\n",
    "Data.columns"
   ]
  },
  {
   "cell_type": "code",
   "execution_count": 26,
   "metadata": {},
   "outputs": [
    {
     "name": "stdout",
     "output_type": "stream",
     "text": [
      "[13.87, 42.96, 36.19, 31.05, 25.79]\n",
      "[20.58, 55.66, 60.44, 64.78, 69.47]\n",
      "[39.46, 100.0, 100.0, 95.86, 90.66]\n"
     ]
    }
   ],
   "source": [
    "#Make the column 2 into a list\n",
    "Transient= list(Data['Transient'])[0:]\n",
    "print(Transient)\n",
    "#Make the column 3 into a list\n",
    "Persistant= list(Data['Persistant'])[0:]\n",
    "print(Persistant)\n",
    "#Make the column 4 into a list\n",
    "Ultra_Persistant= list(Data['Ultra-Persistant'])[0:]\n",
    "print(Ultra_Persistant)"
   ]
  },
  {
   "cell_type": "code",
   "execution_count": 27,
   "metadata": {},
   "outputs": [
    {
     "name": "stdout",
     "output_type": "stream",
     "text": [
      "p-value annotation legend:\n",
      "ns: 5.00e-02 < p <= 1.00e+00\n",
      "*: 1.00e-02 < p <= 5.00e-02\n",
      "**: 1.00e-03 < p <= 1.00e-02\n",
      "***: 1.00e-04 < p <= 1.00e-03\n",
      "****: p <= 1.00e-04\n",
      "\n",
      "Transient v.s. Persistant: t-test paired samples with Bonferroni correction, P_val=2.290e-02 stat=-3.593e+00\n",
      "p-value annotation legend:\n",
      "ns: 5.00e-02 < p <= 1.00e+00\n",
      "*: 1.00e-02 < p <= 5.00e-02\n",
      "**: 1.00e-03 < p <= 1.00e-02\n",
      "***: 1.00e-04 < p <= 1.00e-03\n",
      "****: p <= 1.00e-04\n",
      "\n",
      "Persistant v.s. Ultra-Persistant: t-test paired samples with Bonferroni correction, P_val=3.367e-03 stat=-6.237e+00\n",
      "p-value annotation legend:\n",
      "ns: 5.00e-02 < p <= 1.00e+00\n",
      "*: 1.00e-02 < p <= 5.00e-02\n",
      "**: 1.00e-03 < p <= 1.00e-02\n",
      "***: 1.00e-04 < p <= 1.00e-03\n",
      "****: p <= 1.00e-04\n",
      "\n",
      "Transient v.s. Ultra-Persistant: t-test paired samples with Bonferroni correction, P_val=1.859e-03 stat=-7.314e+00\n"
     ]
    },
    {
     "data": {
      "image/png": "[encoded data removed]",
      "text/plain": [
       "<Figure size 432x288 with 1 Axes>"
      ]
     },
     "metadata": {},
     "output_type": "display_data"
    }
   ],
   "source": [
    "#Get the strip plots\n",
    "sns.stripplot(data = Data, jitter=0,color='black')\n",
    "Graph = sns.stripplot(data = Data, jitter=0, alpha=.40, zorder=1, size=7, linewidth = 0.01)\n",
    "# Add lines between the points\n",
    "lines3 = plt.plot([Data.iloc[:,1], Data.iloc[:,2], Data.iloc[:,3]], color = 'black', linewidth = 0.6, linestyle = '--')\n",
    "#Set y-axis label\n",
    "plt.ylabel(\"% of occupied microvilli\")\n",
    "#Set the y-axis limit\n",
    "plt.ylim(0,120)\n",
    "#Set the title\n",
    "plt.title(\"N4+ Bilayer\")\n",
    "#Setting annotations legends depending on the pvalues\n",
    "test_results = add_stat_annotation(Graph, data=Data, box_pairs=[(\"Transient\", \"Persistant\")],test='t-test_paired', text_format='star',loc='inside', verbose=2)\n",
    "test_results = add_stat_annotation(Graph, data=Data, box_pairs=[(\"Persistant\", \"Ultra-Persistant\")],test='t-test_paired', text_format='star',loc='inside', verbose=2)\n",
    "test_results = add_stat_annotation(Graph, data=Data, box_pairs=[(\"Ultra-Persistant\", \"Transient\")],test='t-test_paired', text_format='star',loc='inside', verbose=2)"
   ]
  },
  {
   "cell_type": "code",
   "execution_count": 28,
   "metadata": {},
   "outputs": [
    {
     "name": "stdout",
     "output_type": "stream",
     "text": [
      "The t-statistics for the data is: -3.5927972829795096\n",
      "The p-value for the data is: 0.022904628282605328\n",
      "Reject the null hypothesis\n"
     ]
    }
   ],
   "source": [
    "#Statistical analysis/Hypothesis testing\n",
    "# Performing the paired sample t-test for Transient and persistant data points\n",
    "tval_1,p_value = stats.ttest_rel(Transient, Persistant)\n",
    "#print t-statistics and p value\n",
    "print(\"The t-statistics for the data is:\",tval_1)\n",
    "print(\"The p-value for the data is:\",p_value)\n",
    "#Testing the hypothesis\n",
    "if p_value<0.05:\n",
    "    print(\"Reject the null hypothesis\")"
   ]
  },
  {
   "cell_type": "code",
   "execution_count": 29,
   "metadata": {},
   "outputs": [
    {
     "name": "stdout",
     "output_type": "stream",
     "text": [
      "The t-statistics for the data is: -6.237242687189895\n",
      "The p-value for the data is: 0.0033666271631798417\n",
      "Reject the null hypothesis\n"
     ]
    }
   ],
   "source": [
    "#Statistical analysis/Hypothesis testing\n",
    "# Performing the paired sample t-test for persistant and Ultra-Persistant data points\n",
    "tval_2,p_value_1 = stats.ttest_rel(Persistant,Ultra_Persistant)\n",
    "#print t-statistics and p value\n",
    "print(\"The t-statistics for the data is:\",tval_2)\n",
    "print(\"The p-value for the data is:\",p_value_1)\n",
    "#Testing the hypothesis\n",
    "if p_value_1<0.05:\n",
    "    print(\"Reject the null hypothesis\")"
   ]
  },
  {
   "cell_type": "code",
   "execution_count": 30,
   "metadata": {},
   "outputs": [
    {
     "name": "stdout",
     "output_type": "stream",
     "text": [
      "The t-statistics for the data is: 7.314187135773116\n",
      "The p-value for the data is: 0.0018587274573445378\n",
      "Reject the null hypothesis\n"
     ]
    }
   ],
   "source": [
    "#Statistical analysis/Hypothesis testing\n",
    "# Performing the paired sample t-test for Transient and Ultra-persistant data points\n",
    "tval_3,pvalue_2 = stats.ttest_rel(Ultra_Persistant,Transient)\n",
    "#print t-statistics and p value\n",
    "print(\"The t-statistics for the data is:\",tval_3)\n",
    "print(\"The p-value for the data is:\",pvalue_2)\n",
    "#Testing the hypothesis\n",
    "if pvalue_2<0.05:\n",
    "    print(\"Reject the null hypothesis\")"
   ]
  },
  {
   "cell_type": "markdown",
   "metadata": {},
   "source": [
    "FIGURE 4 F "
   ]
  },
  {
   "cell_type": "code",
   "execution_count": 31,
   "metadata": {},
   "outputs": [
    {
     "name": "stdout",
     "output_type": "stream",
     "text": [
      "    Time  Spot 1 Intensity  Spot 2 Intensity  Spot 3 Intensity  \\\n",
      "0   4.71           1656.74           2095.04           2128.49   \n",
      "1   9.42           2943.57           2811.75           2786.51   \n",
      "2  14.13           3574.83           3220.24           3723.76   \n",
      "3  18.84           3718.94           2959.87           3712.78   \n",
      "4  23.55           3769.92           3576.93           4922.55   \n",
      "5  28.26           4172.56           3415.58           5651.07   \n",
      "6  32.97           4066.73           4180.97           6295.08   \n",
      "\n",
      "   Spot 4 Intensity   Spot 5 Intensity  \n",
      "0            2124.49           1969.41  \n",
      "1            3501.98           3175.21  \n",
      "2            4129.00           4047.86  \n",
      "3            2622.05           4231.44  \n",
      "4            4595.11           4743.33  \n",
      "5            5437.59           5206.63  \n",
      "6            5216.92           5571.05  \n"
     ]
    }
   ],
   "source": [
    "#Figure 4 F\n",
    "#Get the data\n",
    "#Input the excel file which contains data experiment with Intensity of 5 spots with time(s)\n",
    "#Note:Make sure that the location of the table is correctly given\n",
    "xls=pd.ExcelFile('Paper2_figure_4.xls')\n",
    "#Get the sheet 3 data from the excel\n",
    "dataframe=xls.parse('Sheet3', skiprows=1)\n",
    "print(dataframe)"
   ]
  },
  {
   "cell_type": "code",
   "execution_count": 32,
   "metadata": {},
   "outputs": [
    {
     "name": "stdout",
     "output_type": "stream",
     "text": [
      "    Time  Spot 1 Intensity  Spot 2 Intensity  Spot 3 Intensity  \\\n",
      "0   4.71           1656.74           2095.04           2128.49   \n",
      "1   9.42           2943.57           2811.75           2786.51   \n",
      "2  14.13           3574.83           3220.24           3723.76   \n",
      "3  18.84           3718.94           2959.87           3712.78   \n",
      "4  23.55           3769.92           3576.93           4922.55   \n",
      "5  28.26           4172.56           3415.58           5651.07   \n",
      "6  32.97           4066.73           4180.97           6295.08   \n",
      "\n",
      "   Spot 4 Intensity   Spot 5 Intensity       Mean         SEM  \n",
      "0            2124.49           1969.41  2001.1900  115.058610  \n",
      "1            3501.98           3175.21  3010.9525  167.258403  \n",
      "2            4129.00           4047.86  3661.9575  188.116497  \n",
      "3            2622.05           4231.44  3253.4100  275.759581  \n",
      "4            4595.11           4743.33  4216.1275  322.791865  \n",
      "5            5437.59           5206.63  4669.2000  530.149844  \n",
      "6            5216.92           5571.05  4939.9250  520.548869  \n"
     ]
    },
    {
     "data": {
      "image/png": "[encoded data removed]",
      "text/plain": [
       "<Figure size 432x288 with 1 Axes>"
      ]
     },
     "metadata": {},
     "output_type": "display_data"
    }
   ],
   "source": [
    "#Get the mean values for each rows in the dataframe\n",
    "mean_values = dataframe[\"Mean\"] = dataframe.iloc[:, 1:5].mean(axis = 1)\n",
    "#Get the Standarad mean error for each rows in the dataframe\n",
    "sem_values = dataframe[\"SEM\"] = dataframe.iloc[:,1:5].sem(axis = 1)\n",
    "print(dataframe)\n",
    "#Get the Time data from the Dataframe\n",
    "Time = dataframe.Time\n",
    "#Make the x-axis interval\n",
    "plt.xlim(0,40)\n",
    "#plot the graph\n",
    "plt.plot(Time, mean_values, 'b-')\n",
    "#plot the errorbar plot\n",
    "plt.errorbar(Time,mean_values,yerr = sem_values,fmt = '',capsize = 2,capthick = 3,color = 'black')\n",
    "#Set x-axis label\n",
    "plt.xlabel(\"Time (s)\")\n",
    "#Set y-axis label\n",
    "plt.ylabel(\"PD-1 Punctum Intensity\")\n",
    "#Set title\n",
    "plt.title(\"Fig 4F\")\n",
    "#Show the plot\n",
    "plt.show()"
   ]
  },
  {
   "cell_type": "markdown",
   "metadata": {},
   "source": [
    "FIGURE 4 H"
   ]
  },
  {
   "cell_type": "code",
   "execution_count": 33,
   "metadata": {},
   "outputs": [
    {
     "name": "stdout",
     "output_type": "stream",
     "text": [
      "   TCR+/PD1-  TCR+/PD1+\n",
      "0       2.13      12.77\n",
      "1      18.75      16.67\n",
      "2      32.04      17.48\n",
      "3      17.95      24.79\n",
      "4      55.71       0.00\n",
      "5      29.35      19.57\n",
      "6      54.17       0.83\n",
      "7      40.82      11.22\n",
      "8      13.54       2.08\n",
      "9      54.22      33.73\n"
     ]
    }
   ],
   "source": [
    "#Figure 4 H\n",
    "#Get the data\n",
    "#Input the excel file which contains data experiment with TCR+/PD1- and TCR+/PD1+ values\n",
    "#Note:Make sure that the location of the table is correctly given\n",
    "xls=pd.ExcelFile('Paper2_figure_4.xls')\n",
    "#Get the sheet 4 data from the excel file\n",
    "data1=xls.parse('Sheet4', skiprows=1)\n",
    "print(data1)"
   ]
  },
  {
   "cell_type": "code",
   "execution_count": 34,
   "metadata": {},
   "outputs": [
    {
     "name": "stdout",
     "output_type": "stream",
     "text": [
      "p-value annotation legend:\n",
      "ns: 5.00e-02 < p <= 1.00e+00\n",
      "*: 1.00e-02 < p <= 5.00e-02\n",
      "**: 1.00e-03 < p <= 1.00e-02\n",
      "***: 1.00e-04 < p <= 1.00e-03\n",
      "****: p <= 1.00e-04\n",
      "\n",
      "TCR+/PD1- v.s. TCR+/PD1+: t-test paired samples with Bonferroni correction, P_val=3.360e-02 stat=2.505e+00\n"
     ]
    },
    {
     "data": {
      "image/png": "[encoded data removed]",
      "text/plain": [
       "<Figure size 432x288 with 1 Axes>"
      ]
     },
     "metadata": {},
     "output_type": "display_data"
    }
   ],
   "source": [
    "##Get the strip plots\n",
    "Graph = sns.stripplot(data = data1, jitter = 0)\n",
    "sns.stripplot(data = data1, jitter=0, alpha=.40, zorder=1, size=7, linewidth = 0.01)\n",
    "# Add lines between the points\n",
    "lines3 = plt.plot([data1.iloc[:,0], data1.iloc[:,1]], color = 'black', linewidth = 0.6, linestyle = '--')\n",
    "#Set y-axis label\n",
    "plt.ylabel(\"% of occupied microvilli\")\n",
    "#Set y-axis interval limit\n",
    "plt.ylim(0,60)\n",
    "plt.title(\"Fig 4 H\")\n",
    "#Set annotations legend according to the p-values\n",
    "test_results = add_stat_annotation(Graph, data=data1, box_pairs=[(\"TCR+/PD1-\", \"TCR+/PD1+\")],test='t-test_paired', text_format='star',loc='inside', verbose=2)"
   ]
  },
  {
   "cell_type": "code",
   "execution_count": 35,
   "metadata": {},
   "outputs": [
    {
     "data": {
      "text/plain": [
       "Index(['TCR+/PD1-', 'TCR+/PD1+'], dtype='object')"
      ]
     },
     "execution_count": 35,
     "metadata": {},
     "output_type": "execute_result"
    }
   ],
   "source": [
    "#Get the column names \n",
    "data1.columns"
   ]
  },
  {
   "cell_type": "code",
   "execution_count": 36,
   "metadata": {},
   "outputs": [
    {
     "name": "stdout",
     "output_type": "stream",
     "text": [
      "[2.13, 18.75, 32.04, 17.95, 55.71, 29.35, 54.17, 40.82, 13.54, 54.22]\n",
      "[12.77, 16.67, 17.48, 24.79, 0.0, 19.57, 0.83, 11.22, 2.08, 33.73]\n"
     ]
    }
   ],
   "source": [
    "#Get the column 1 data into a list\n",
    "TCR_PD1 = list(data1['TCR+/PD1-'])[0:]\n",
    "print(TCR_PD1)\n",
    "#Get the column 2 data into a list\n",
    "TCRPD1 = list(data1['TCR+/PD1+'])[0:]\n",
    "print(TCRPD1)"
   ]
  },
  {
   "cell_type": "code",
   "execution_count": 37,
   "metadata": {},
   "outputs": [
    {
     "name": "stdout",
     "output_type": "stream",
     "text": [
      "The t-statistics for the data is: 2.504642106426542\n",
      "The p-value for the data is: 0.03360489012806577\n",
      "Reject the null hypothesis\n"
     ]
    }
   ],
   "source": [
    "#Statistical analysis/Hypothesis testing\n",
    "# Performing the paired sample t-test for both the data\n",
    "tvalue,pvalue = stats.ttest_rel(TCR_PD1, TCRPD1)\n",
    "#print t-statistics and p value\n",
    "print(\"The t-statistics for the data is:\",tvalue)\n",
    "print(\"The p-value for the data is:\",pvalue)\n",
    "#Testing the hypothesis\n",
    "if pvalue<0.05:\n",
    "    print(\"Reject the null hypothesis\")"
   ]
  },
  {
   "cell_type": "markdown",
   "metadata": {},
   "source": [
    "FIGURE 4 I "
   ]
  },
  {
   "cell_type": "code",
   "execution_count": 38,
   "metadata": {},
   "outputs": [
    {
     "name": "stdout",
     "output_type": "stream",
     "text": [
      "   TCR-PD1+  TCR+PD1+\n",
      "0     38.30     12.77\n",
      "1      7.29     16.67\n",
      "2      7.77     17.48\n",
      "3      5.13     24.79\n",
      "4      1.43      0.00\n",
      "5     11.96     19.57\n",
      "6      1.67      0.83\n",
      "7      4.08     11.22\n",
      "8      3.12      2.08\n",
      "9      0.00     33.73\n"
     ]
    }
   ],
   "source": [
    "#Figure 4 I\n",
    "#Get the data\n",
    "#Input the excel file which contains data experiment with TCR-PD1+ and TCR+PD1+\n",
    "#Note:Make sure that the location of the table is correctly given\n",
    "xls=pd.ExcelFile('Paper2_figure_4.xls')\n",
    "#Get the sheet 5 data from the excel file\n",
    "data2=xls.parse('Sheet5', skiprows=1)\n",
    "print(data2)"
   ]
  },
  {
   "cell_type": "code",
   "execution_count": 39,
   "metadata": {},
   "outputs": [
    {
     "data": {
      "text/plain": [
       "Index(['TCR-PD1+', 'TCR+PD1+'], dtype='object')"
      ]
     },
     "execution_count": 39,
     "metadata": {},
     "output_type": "execute_result"
    }
   ],
   "source": [
    "#Get the column name \n",
    "data2.columns"
   ]
  },
  {
   "cell_type": "code",
   "execution_count": 40,
   "metadata": {},
   "outputs": [
    {
     "name": "stdout",
     "output_type": "stream",
     "text": [
      "[38.3, 7.29, 7.77, 5.13, 1.43, 11.96, 1.67, 4.08, 3.12, 0.0]\n",
      "[12.77, 16.67, 17.48, 24.79, 0.0, 19.57, 0.83, 11.22, 2.08, 33.73]\n"
     ]
    }
   ],
   "source": [
    "#Get the column 1 into a list form\n",
    "TCR_PD1 = list(data2['TCR-PD1+'])[0:]\n",
    "print(TCR_PD1)\n",
    "#Get the column 2 into a list form\n",
    "TCRPD1 = list(data2['TCR+PD1+'])[0:]\n",
    "print(TCRPD1)"
   ]
  },
  {
   "cell_type": "code",
   "execution_count": 41,
   "metadata": {},
   "outputs": [
    {
     "name": "stdout",
     "output_type": "stream",
     "text": [
      "p-value annotation legend:\n",
      "ns: 5.00e-02 < p <= 1.00e+00\n",
      "*: 1.00e-02 < p <= 5.00e-02\n",
      "**: 1.00e-03 < p <= 1.00e-02\n",
      "***: 1.00e-04 < p <= 1.00e-03\n",
      "****: p <= 1.00e-04\n",
      "\n",
      "TCR-PD1+ v.s. TCR+PD1+: t-test paired samples with Bonferroni correction, P_val=2.607e-01 stat=-1.200e+00\n"
     ]
    },
    {
     "data": {
      "image/png": "[encoded data removed]",
      "text/plain": [
       "<Figure size 432x288 with 1 Axes>"
      ]
     },
     "metadata": {},
     "output_type": "display_data"
    }
   ],
   "source": [
    "#Plot the graph\n",
    "Graph = sns.stripplot(data = data2, jitter=0)\n",
    "#Get the strip plot\n",
    "sns.stripplot(data = data2, jitter=0, alpha=.40, zorder=1, size=7, linewidth = 0.01)\n",
    "# Add lines between the points\n",
    "lines3 = plt.plot([data2.iloc[:,0], data2.iloc[:,1]], color = 'black', linewidth = 0.6, linestyle = '--')\n",
    "#Set y-axis label\n",
    "plt.ylabel(\"% of occupied microvilli\")\n",
    "#Set the y-axis interval limit\n",
    "plt.ylim(0,50)\n",
    "plt.title(\"Fig 4I\")\n",
    "#Get the annotations legend according to the p-values\n",
    "test_results = add_stat_annotation(Graph, data=data2, box_pairs=[(\"TCR-PD1+\", \"TCR+PD1+\")],test='t-test_paired', text_format='star',loc='inside', verbose=2)"
   ]
  },
  {
   "cell_type": "code",
   "execution_count": 42,
   "metadata": {},
   "outputs": [
    {
     "name": "stdout",
     "output_type": "stream",
     "text": [
      "The t-statistics for the data is: -1.200227456980547\n",
      "The p-value for the data is: 0.26068916371798306\n",
      "Do not reject the null hypothesis\n"
     ]
    }
   ],
   "source": [
    "#Statitical analysis/Hypothesis testing\n",
    "# Performing the paired sample t-test for both the group\n",
    "t_val,p_val = stats.ttest_rel(TCR_PD1, TCRPD1)\n",
    "#print t-statistics and p value\n",
    "print(\"The t-statistics for the data is:\",t_val)\n",
    "print(\"The p-value for the data is:\",p_val)\n",
    "#Testing the hypothesis\n",
    "if p_val<0.05:\n",
    "    print(\"Reject the null hypothesis\")\n",
    "else:\n",
    "    print(\"Do not reject the null hypothesis\")"
   ]
  }
 ],
 "metadata": {
  "kernelspec": {
   "display_name": "Python 3",
   "language": "python",
   "name": "python3"
  },
  "language_info": {
   "codemirror_mode": {
    "name": "ipython",
    "version": 3
   },
   "file_extension": ".py",
   "mimetype": "text/x-python",
   "name": "python",
   "nbconvert_exporter": "python",
   "pygments_lexer": "ipython3",
   "version": "3.6.6"
  }
 },
 "nbformat": 4,
 "nbformat_minor": 2
}
